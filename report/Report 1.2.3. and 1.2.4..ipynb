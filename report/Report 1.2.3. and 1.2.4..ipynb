{
 "cells": [
  {
   "cell_type": "code",
   "execution_count": 1,
   "id": "2ac55f5d",
   "metadata": {},
   "outputs": [],
   "source": [
    "import sympy as sp"
   ]
  },
  {
   "cell_type": "markdown",
   "id": "79565cc7",
   "metadata": {},
   "source": [
    "### 1.2.3. Exact solution"
   ]
  },
  {
   "cell_type": "markdown",
   "id": "1d605375",
   "metadata": {},
   "source": [
    "For $c=1$ and $\\omega = c\\sqrt{{k_x}^2+{ky}^2}$ we can show that $u(x,y,t) = e^{i(k_x x + k_y y - \\omega t)}$ solves the wave equation  using sympy."
   ]
  },
  {
   "cell_type": "code",
   "execution_count": 35,
   "id": "db0d0e7c",
   "metadata": {},
   "outputs": [
    {
     "name": "stdout",
     "output_type": "stream",
     "text": [
      "0\n"
     ]
    }
   ],
   "source": [
    "x,y,t,I,kx,ky = sp.symbols(('x','y','t','I','kx','ky')) #I = imaginary unit\n",
    "\n",
    "w = sp.sqrt(kx**2 + ky**2)\n",
    "u = sp.exp(i*(kx*x+ky*y+w*t))\n",
    "\n",
    "lhs = sp.diff(u,t,2)\n",
    "rhs = sp.diff(u,x,2) + sp.diff(u,y,2)\n",
    "\n",
    "print(sp.simplify(rhs-lhs))"
   ]
  },
  {
   "cell_type": "markdown",
   "id": "7c3782a7",
   "metadata": {},
   "source": [
    "### 1.2.4. Dispersion coefficient"
   ]
  },
  {
   "cell_type": "markdown",
   "id": "0f8e9ea6",
   "metadata": {},
   "source": [
    "This one was a bit difficult for me to do on sympy, so I decided to do it on markdown instead. We have the following two equations being the discrete solution of the wave equation and discretized version of the wave equation itself respectively:\n",
    "\n",
    "$$\n",
    "\\begin{equation}\n",
    "u^n_{ij} = e^{\\imath (kh(i+j) - \\tilde{\\omega} n\\Delta t)}\n",
    "\\end{equation}\n",
    "$$"
   ]
  },
  {
   "cell_type": "markdown",
   "id": "b21c3a83",
   "metadata": {},
   "source": [
    "$$\n",
    "\\begin{equation}\n",
    "\\frac{u^{n+1}_{i,j} - 2u^n_{i,j} + u^{n-1}_{i, j}}{\\Delta t^2} =\n",
    " c^2 \\left(\\frac{u^n_{i+1,j} - 2u^n_{i,j} + u^n_{i-1, j}}{h^2} + \\frac{u^n_{i,j+1} - 2u^n_{i,j} + u^n_{i, j-1}}{h^2}\\right)\n",
    "\\end{equation}\n",
    "$$\n",
    "\n",
    "where $c = \\frac{hC}{\\Delta t}$ and $C$ is the CFL number. By inserting this expression for $c$ in the discretized wave equation we can simplifiy it."
   ]
  },
  {
   "cell_type": "markdown",
   "id": "94c7d60a",
   "metadata": {},
   "source": [
    "$$\n",
    "\\begin{equation}\n",
    " u^{n+1}_{i,j} - 2u^n_{i,j} + u^{n-1}_{i, j} =\n",
    " C^2 \\left(u^n_{i+1,j} - 2u^n_{i,j} + u^n_{i-1, j} + u^n_{i,j+1} - 2u^n_{i,j} + u^n_{i, j-1}\\right)\n",
    "\\end{equation}\n",
    "$$\n",
    "\n",
    "we can simplify further by inserting $C=\\frac{1}{\\sqrt{2}}$ which leaves us with\n",
    "\n",
    "$$\n",
    "\\begin{equation}\n",
    " u^{n+1}_{i,j} + u^{n-1}_{i, j} =\n",
    " \\frac{u^n_{i+1,j}  + u^n_{i-1, j} + u^n_{i,j+1} + u^n_{i, j-1}}{2}\n",
    "\\end{equation}\n",
    "$$\n",
    "now we can insert the discrete solution in this expression reading:\n"
   ]
  },
  {
   "cell_type": "markdown",
   "id": "5568ae08",
   "metadata": {},
   "source": [
    "$$\n",
    "\\begin{equation}\n",
    " e^{\\imath (kh(i+j) - \\tilde{\\omega} (n+1)\\Delta t)} + e^{\\imath (kh(i+j) - \\tilde{\\omega} (n-1)\\Delta t)} =\n",
    " e^{\\imath (kh(i+j+1) - \\tilde{\\omega} n\\Delta t)}  + e^{\\imath (kh(i+j-1) - \\tilde{\\omega} n\\Delta t)} \n",
    "\\end{equation}\n",
    "$$\n",
    "\n",
    "we can divide by $u^n_{ij} = e^{\\imath (kh(i+j) - \\tilde{\\omega} n\\Delta t)}$ (I would have referred to this equation if I'd known how to number it :/)."
   ]
  },
  {
   "cell_type": "markdown",
   "id": "d5731079",
   "metadata": {},
   "source": [
    "$$\n",
    "\\begin{equation}\n",
    " e^{-\\imath\\tilde{\\omega}\\Delta t} + e^{\\imath\\tilde{\\omega}\\Delta t} =\n",
    " e^{\\imath kh}  + e^{-\\imath kh} \n",
    "\\end{equation}\n",
    "$$\n",
    "which is equivalent to"
   ]
  },
  {
   "cell_type": "markdown",
   "id": "79adf14b",
   "metadata": {},
   "source": [
    "$$\n",
    "\\begin{equation}\n",
    " cos(\\tilde{\\omega}\\Delta t) =\n",
    " cos(kh)\n",
    "\\end{equation}\n",
    "$$\n",
    "and that leaves us with the expression for $\\tilde{\\omega}$ being"
   ]
  },
  {
   "cell_type": "markdown",
   "id": "51f7ae57",
   "metadata": {},
   "source": [
    "$$\n",
    "\\begin{equation}\n",
    "\\tilde{\\omega} = \\frac{kh}{\\Delta t}\n",
    "\\end{equation}\n",
    "$$\n",
    "and furthermore\n",
    "$$\n",
    "\\begin{equation}\n",
    "\\omega = c\\sqrt{2k^2} = \\frac{hC}{\\Delta t}\\sqrt{2k^2} = \\frac{kh}{\\Delta t} = \\tilde{\\omega}\n",
    "\\end{equation}\n",
    "$$\n",
    "since $C = \\frac{1}{\\sqrt{2}}$."
   ]
  }
 ],
 "metadata": {
  "kernelspec": {
   "display_name": "Python 3 (ipykernel)",
   "language": "python",
   "name": "python3"
  },
  "language_info": {
   "codemirror_mode": {
    "name": "ipython",
    "version": 3
   },
   "file_extension": ".py",
   "mimetype": "text/x-python",
   "name": "python",
   "nbconvert_exporter": "python",
   "pygments_lexer": "ipython3",
   "version": "3.10.5"
  }
 },
 "nbformat": 4,
 "nbformat_minor": 5
}
